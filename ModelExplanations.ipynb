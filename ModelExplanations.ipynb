{
  "nbformat": 4,
  "nbformat_minor": 0,
  "metadata": {
    "colab": {
      "name": "Untitled4.ipynb",
      "provenance": [],
      "authorship_tag": "ABX9TyMW2K3zhkhgDC02ZIY4D0q5",
      "include_colab_link": true
    },
    "kernelspec": {
      "name": "python3",
      "display_name": "Python 3"
    }
  },
  "cells": [
    {
      "cell_type": "markdown",
      "metadata": {
        "id": "view-in-github",
        "colab_type": "text"
      },
      "source": [
        "<a href=\"https://colab.research.google.com/github/rajudevolla/Python/blob/master/ModelExplanations.ipynb\" target=\"_parent\"><img src=\"https://colab.research.google.com/assets/colab-badge.svg\" alt=\"Open In Colab\"/></a>"
      ]
    },
    {
      "cell_type": "code",
      "metadata": {
        "id": "wH8slJclwPtf",
        "colab_type": "code",
        "colab": {
          "base_uri": "https://localhost:8080/",
          "height": 476
        },
        "outputId": "0b743294-40e6-4c52-e714-1829c766dfc7"
      },
      "source": [
        "pip install lime\n"
      ],
      "execution_count": 1,
      "outputs": [
        {
          "output_type": "stream",
          "text": [
            "Collecting lime\n",
            "\u001b[?25l  Downloading https://files.pythonhosted.org/packages/f5/86/91a13127d83d793ecb50eb75e716f76e6eda809b6803c5a4ff462339789e/lime-0.2.0.1.tar.gz (275kB)\n",
            "\r\u001b[K     |█▏                              | 10kB 16.1MB/s eta 0:00:01\r\u001b[K     |██▍                             | 20kB 2.2MB/s eta 0:00:01\r\u001b[K     |███▋                            | 30kB 2.5MB/s eta 0:00:01\r\u001b[K     |████▊                           | 40kB 2.8MB/s eta 0:00:01\r\u001b[K     |██████                          | 51kB 2.5MB/s eta 0:00:01\r\u001b[K     |███████▏                        | 61kB 2.8MB/s eta 0:00:01\r\u001b[K     |████████▎                       | 71kB 3.0MB/s eta 0:00:01\r\u001b[K     |█████████▌                      | 81kB 3.3MB/s eta 0:00:01\r\u001b[K     |██████████▊                     | 92kB 3.4MB/s eta 0:00:01\r\u001b[K     |███████████▉                    | 102kB 3.4MB/s eta 0:00:01\r\u001b[K     |█████████████                   | 112kB 3.4MB/s eta 0:00:01\r\u001b[K     |██████████████▎                 | 122kB 3.4MB/s eta 0:00:01\r\u001b[K     |███████████████▌                | 133kB 3.4MB/s eta 0:00:01\r\u001b[K     |████████████████▋               | 143kB 3.4MB/s eta 0:00:01\r\u001b[K     |█████████████████▉              | 153kB 3.4MB/s eta 0:00:01\r\u001b[K     |███████████████████             | 163kB 3.4MB/s eta 0:00:01\r\u001b[K     |████████████████████▏           | 174kB 3.4MB/s eta 0:00:01\r\u001b[K     |█████████████████████▍          | 184kB 3.4MB/s eta 0:00:01\r\u001b[K     |██████████████████████▋         | 194kB 3.4MB/s eta 0:00:01\r\u001b[K     |███████████████████████▊        | 204kB 3.4MB/s eta 0:00:01\r\u001b[K     |█████████████████████████       | 215kB 3.4MB/s eta 0:00:01\r\u001b[K     |██████████████████████████▏     | 225kB 3.4MB/s eta 0:00:01\r\u001b[K     |███████████████████████████▍    | 235kB 3.4MB/s eta 0:00:01\r\u001b[K     |████████████████████████████▌   | 245kB 3.4MB/s eta 0:00:01\r\u001b[K     |█████████████████████████████▊  | 256kB 3.4MB/s eta 0:00:01\r\u001b[K     |███████████████████████████████ | 266kB 3.4MB/s eta 0:00:01\r\u001b[K     |████████████████████████████████| 276kB 3.4MB/s \n",
            "\u001b[?25hRequirement already satisfied: matplotlib in /usr/local/lib/python3.6/dist-packages (from lime) (3.2.2)\n",
            "Requirement already satisfied: numpy in /usr/local/lib/python3.6/dist-packages (from lime) (1.18.5)\n",
            "Requirement already satisfied: scipy in /usr/local/lib/python3.6/dist-packages (from lime) (1.4.1)\n",
            "Requirement already satisfied: tqdm in /usr/local/lib/python3.6/dist-packages (from lime) (4.41.1)\n",
            "Requirement already satisfied: scikit-learn>=0.18 in /usr/local/lib/python3.6/dist-packages (from lime) (0.22.2.post1)\n",
            "Requirement already satisfied: scikit-image>=0.12 in /usr/local/lib/python3.6/dist-packages (from lime) (0.16.2)\n",
            "Requirement already satisfied: kiwisolver>=1.0.1 in /usr/local/lib/python3.6/dist-packages (from matplotlib->lime) (1.2.0)\n",
            "Requirement already satisfied: pyparsing!=2.0.4,!=2.1.2,!=2.1.6,>=2.0.1 in /usr/local/lib/python3.6/dist-packages (from matplotlib->lime) (2.4.7)\n",
            "Requirement already satisfied: cycler>=0.10 in /usr/local/lib/python3.6/dist-packages (from matplotlib->lime) (0.10.0)\n",
            "Requirement already satisfied: python-dateutil>=2.1 in /usr/local/lib/python3.6/dist-packages (from matplotlib->lime) (2.8.1)\n",
            "Requirement already satisfied: joblib>=0.11 in /usr/local/lib/python3.6/dist-packages (from scikit-learn>=0.18->lime) (0.16.0)\n",
            "Requirement already satisfied: pillow>=4.3.0 in /usr/local/lib/python3.6/dist-packages (from scikit-image>=0.12->lime) (7.0.0)\n",
            "Requirement already satisfied: networkx>=2.0 in /usr/local/lib/python3.6/dist-packages (from scikit-image>=0.12->lime) (2.4)\n",
            "Requirement already satisfied: PyWavelets>=0.4.0 in /usr/local/lib/python3.6/dist-packages (from scikit-image>=0.12->lime) (1.1.1)\n",
            "Requirement already satisfied: imageio>=2.3.0 in /usr/local/lib/python3.6/dist-packages (from scikit-image>=0.12->lime) (2.4.1)\n",
            "Requirement already satisfied: six in /usr/local/lib/python3.6/dist-packages (from cycler>=0.10->matplotlib->lime) (1.15.0)\n",
            "Requirement already satisfied: decorator>=4.3.0 in /usr/local/lib/python3.6/dist-packages (from networkx>=2.0->scikit-image>=0.12->lime) (4.4.2)\n",
            "Building wheels for collected packages: lime\n",
            "  Building wheel for lime (setup.py) ... \u001b[?25l\u001b[?25hdone\n",
            "  Created wheel for lime: filename=lime-0.2.0.1-cp36-none-any.whl size=283845 sha256=d607f18d8de701b5f31ab885f500189897a8925096e8254c749b5aae053575c9\n",
            "  Stored in directory: /root/.cache/pip/wheels/4c/4f/a5/0bc765457bd41378bf3ce8d17d7495369d6e7ca3b712c60c89\n",
            "Successfully built lime\n",
            "Installing collected packages: lime\n",
            "Successfully installed lime-0.2.0.1\n"
          ],
          "name": "stdout"
        }
      ]
    },
    {
      "cell_type": "code",
      "metadata": {
        "id": "eDmBc3ADw2Sj",
        "colab_type": "code",
        "colab": {
          "base_uri": "https://localhost:8080/",
          "height": 340
        },
        "outputId": "2357f537-a722-4f24-f673-7ee0436aa5df"
      },
      "source": [
        "pip install shap"
      ],
      "execution_count": 2,
      "outputs": [
        {
          "output_type": "stream",
          "text": [
            "Collecting shap\n",
            "\u001b[?25l  Downloading https://files.pythonhosted.org/packages/a8/77/b504e43e21a2ba543a1ac4696718beb500cfa708af2fb57cb54ce299045c/shap-0.35.0.tar.gz (273kB)\n",
            "\r\u001b[K     |█▏                              | 10kB 17.6MB/s eta 0:00:01\r\u001b[K     |██▍                             | 20kB 2.1MB/s eta 0:00:01\r\u001b[K     |███▋                            | 30kB 2.8MB/s eta 0:00:01\r\u001b[K     |████▉                           | 40kB 3.1MB/s eta 0:00:01\r\u001b[K     |██████                          | 51kB 2.6MB/s eta 0:00:01\r\u001b[K     |███████▏                        | 61kB 2.8MB/s eta 0:00:01\r\u001b[K     |████████▍                       | 71kB 3.1MB/s eta 0:00:01\r\u001b[K     |█████████▋                      | 81kB 3.4MB/s eta 0:00:01\r\u001b[K     |██████████▉                     | 92kB 3.6MB/s eta 0:00:01\r\u001b[K     |████████████                    | 102kB 3.4MB/s eta 0:00:01\r\u001b[K     |█████████████▏                  | 112kB 3.4MB/s eta 0:00:01\r\u001b[K     |██████████████▍                 | 122kB 3.4MB/s eta 0:00:01\r\u001b[K     |███████████████▋                | 133kB 3.4MB/s eta 0:00:01\r\u001b[K     |████████████████▉               | 143kB 3.4MB/s eta 0:00:01\r\u001b[K     |██████████████████              | 153kB 3.4MB/s eta 0:00:01\r\u001b[K     |███████████████████▏            | 163kB 3.4MB/s eta 0:00:01\r\u001b[K     |████████████████████▍           | 174kB 3.4MB/s eta 0:00:01\r\u001b[K     |█████████████████████▋          | 184kB 3.4MB/s eta 0:00:01\r\u001b[K     |██████████████████████▉         | 194kB 3.4MB/s eta 0:00:01\r\u001b[K     |████████████████████████        | 204kB 3.4MB/s eta 0:00:01\r\u001b[K     |█████████████████████████▏      | 215kB 3.4MB/s eta 0:00:01\r\u001b[K     |██████████████████████████▍     | 225kB 3.4MB/s eta 0:00:01\r\u001b[K     |███████████████████████████▋    | 235kB 3.4MB/s eta 0:00:01\r\u001b[K     |████████████████████████████▉   | 245kB 3.4MB/s eta 0:00:01\r\u001b[K     |██████████████████████████████  | 256kB 3.4MB/s eta 0:00:01\r\u001b[K     |███████████████████████████████▏| 266kB 3.4MB/s eta 0:00:01\r\u001b[K     |████████████████████████████████| 276kB 3.4MB/s \n",
            "\u001b[?25hRequirement already satisfied: numpy in /usr/local/lib/python3.6/dist-packages (from shap) (1.18.5)\n",
            "Requirement already satisfied: scipy in /usr/local/lib/python3.6/dist-packages (from shap) (1.4.1)\n",
            "Requirement already satisfied: scikit-learn in /usr/local/lib/python3.6/dist-packages (from shap) (0.22.2.post1)\n",
            "Requirement already satisfied: pandas in /usr/local/lib/python3.6/dist-packages (from shap) (1.0.5)\n",
            "Requirement already satisfied: tqdm>4.25.0 in /usr/local/lib/python3.6/dist-packages (from shap) (4.41.1)\n",
            "Requirement already satisfied: joblib>=0.11 in /usr/local/lib/python3.6/dist-packages (from scikit-learn->shap) (0.16.0)\n",
            "Requirement already satisfied: pytz>=2017.2 in /usr/local/lib/python3.6/dist-packages (from pandas->shap) (2018.9)\n",
            "Requirement already satisfied: python-dateutil>=2.6.1 in /usr/local/lib/python3.6/dist-packages (from pandas->shap) (2.8.1)\n",
            "Requirement already satisfied: six>=1.5 in /usr/local/lib/python3.6/dist-packages (from python-dateutil>=2.6.1->pandas->shap) (1.15.0)\n",
            "Building wheels for collected packages: shap\n",
            "  Building wheel for shap (setup.py) ... \u001b[?25l\u001b[?25hdone\n",
            "  Created wheel for shap: filename=shap-0.35.0-cp36-cp36m-linux_x86_64.whl size=394132 sha256=50826ee6f6e72efb72e16be390ba5de53473f419b3cc9bed83526af254424cb2\n",
            "  Stored in directory: /root/.cache/pip/wheels/e7/f7/0f/b57055080cf8894906b3bd3616d2fc2bfd0b12d5161bcb24ac\n",
            "Successfully built shap\n",
            "Installing collected packages: shap\n",
            "Successfully installed shap-0.35.0\n"
          ],
          "name": "stdout"
        }
      ]
    }
  ]
}